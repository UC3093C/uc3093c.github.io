{
 "cells": [
  {
   "cell_type": "markdown",
   "metadata": {},
   "source": [
    "# Spring Semester 2025\n",
    "\n",
    "**Course:** Software Engineering (EECE3093C / CS3093C) <br>\n",
    "**Section:** 001 <br>\n",
    "**Location:** Swift 500<br>\n",
    "**Days/Times:** TuTh 12:30-1:50 <br>\n",
    "**Office Hours:** By appointment.<br>\n",
    "**Instruction Mode:** The lecture portion of this course is in-person. This means that class will be conducted entirely via in-person class meetings that take place at the location and times noted. The laboratory component will be implemented in an asynchronous setting -- allowing you to participate in laboratory activities independently, at different times, and from different locations.<br>\n",
    "**Textbook:** We will use several textbooks for this course. All books will be available online through UC's institutional agreement with O'Reilly Media. Please see the following [FAQs](/faqs/oreilly_access.md) for access instructions.  Supplemental materials will be provided as needed throughout the semester.\n",
    "\n",
    "```{note}\n",
    "As with all university courses, attendance and participation are important measures of student success. Attendance will be recorded, but these records will only be used in your favor. Specifically, strong attendance may result in the instructor adjusting your final grade upward if you are on the border between two grades (for example, from an A- at 92% to an A). The final decision rests with the instructor.\n",
    "```"
   ]
  },
  {
   "cell_type": "code",
   "execution_count": 2,
   "metadata": {
    "tags": [
     "remove-cell"
    ]
   },
   "outputs": [],
   "source": [
    "import pandas as pd\n",
    "from IPython.core.display import HTML"
   ]
  },
  {
   "cell_type": "code",
   "execution_count": 5,
   "metadata": {
    "tags": [
     "remove-cell"
    ]
   },
   "outputs": [],
   "source": [
    "schedule = pd.read_csv('20EECE3093C-SS25.tsv', sep='\\t')\n",
    "\n",
    "schedule['Date']= pd.to_datetime(schedule['Date'])\n",
    "schedule.sort_values(by=['Date'], inplace=True, ascending=True)\n",
    "schedule['Date'] = schedule['Date'].dt.strftime('%a, %b-%d')\n",
    "\n",
    "# Define column widths (in pixels) by index\n",
    "schedule['Topics and Notes'] = schedule['Topics and Notes'].str.replace('\\n', '')\n",
    "schedule['Pre-Lecture Reading'] = schedule['Pre-Lecture Reading'].str.replace('\\n', '')\n",
    "#schedule['Reading Material'] = schedule['Reading Material'].str.replace(';', '<br>')\n",
    "schedule = schedule.fillna('')\n",
    "\n",
    "schedule_html = schedule.to_html(index=False, escape=False)\n",
    "#schedule_html = schedule_html.replace('<table border=\"1\" class=\"dataframe\">','<table class=\"table table-bordered\">')\n",
    "\n",
    "wrapped_html = f'<div class=\"mystyle\">{schedule_html}</div>'\n"
   ]
  },
  {
   "cell_type": "markdown",
   "metadata": {},
   "source": [
    "## Schedule"
   ]
  },
  {
   "cell_type": "code",
   "execution_count": 6,
   "metadata": {
    "tags": [
     "remove-input"
    ]
   },
   "outputs": [
    {
     "data": {
      "text/html": [
       "<div class=\"mystyle\"><table border=\"1\" class=\"dataframe\">\n",
       "  <thead>\n",
       "    <tr style=\"text-align: right;\">\n",
       "      <th>Date</th>\n",
       "      <th>Topics and Notes</th>\n",
       "      <th>Pre-Lecture Reading</th>\n",
       "    </tr>\n",
       "  </thead>\n",
       "  <tbody>\n",
       "    <tr>\n",
       "      <td>Tue, Jan-14</td>\n",
       "      <td>No class</td>\n",
       "      <td></td>\n",
       "    </tr>\n",
       "    <tr>\n",
       "      <td>Thu, Jan-16</td>\n",
       "      <td><ul>    <li><a href=\"/slides/slides/course_introduction.html\">Course Intro</a></li>    <li><a href=\"/slides/slides/software_engineering_as_a_layered_technology.html\">Software Engineering as a Layered Technology</a></li></ul></td>\n",
       "      <td><ul>    <li><a href=\"https://www.computer.org/publications/tech-news/trends/software-engineering-as-a-layered-technology\">Software Engineering as a Layered Technology</a></li></ul></td>\n",
       "    </tr>\n",
       "    <tr>\n",
       "      <td>Tue, Jan-21</td>\n",
       "      <td>History of Software EngineeringSoftware Engineering Code of Ethics and Professional Practice</td>\n",
       "      <td><ul>    <li><a href=\"https://en.wikipedia.org/wiki/History_of_software_engineering\">History of software engineering</a></li>    <li><a href=\"http://homepages.cs.ncl.ac.uk/brian.randell/NATO/NATOReports/\">The 1968/69 NATO Software Engineering Reports</a></li>    <li><a href=\"https://en.wikipedia.org/wiki/Software_crisis\">Software Crisis</a></li>    <li><a href=\"https://ethics.acm.org/code-of-ethics/software-engineering-code/\">Software Engineering Code</a></li></ul></td>\n",
       "    </tr>\n",
       "    <tr>\n",
       "      <td>Thu, Jan-23</td>\n",
       "      <td></td>\n",
       "      <td></td>\n",
       "    </tr>\n",
       "    <tr>\n",
       "      <td>Tue, Jan-28</td>\n",
       "      <td></td>\n",
       "      <td></td>\n",
       "    </tr>\n",
       "    <tr>\n",
       "      <td>Thu, Jan-30</td>\n",
       "      <td><ul>    <li>Review for exam 1</li>    <li>Course project QA</li></ul></td>\n",
       "      <td></td>\n",
       "    </tr>\n",
       "    <tr>\n",
       "      <td>Tue, Feb-04</td>\n",
       "      <td><ul>    <li>Exam 1</li></ul></td>\n",
       "      <td></td>\n",
       "    </tr>\n",
       "    <tr>\n",
       "      <td>Thu, Feb-06</td>\n",
       "      <td></td>\n",
       "      <td></td>\n",
       "    </tr>\n",
       "    <tr>\n",
       "      <td>Tue, Feb-11</td>\n",
       "      <td></td>\n",
       "      <td></td>\n",
       "    </tr>\n",
       "    <tr>\n",
       "      <td>Thu, Feb-13</td>\n",
       "      <td></td>\n",
       "      <td></td>\n",
       "    </tr>\n",
       "    <tr>\n",
       "      <td>Tue, Feb-18</td>\n",
       "      <td></td>\n",
       "      <td></td>\n",
       "    </tr>\n",
       "    <tr>\n",
       "      <td>Thu, Feb-20</td>\n",
       "      <td></td>\n",
       "      <td></td>\n",
       "    </tr>\n",
       "    <tr>\n",
       "      <td>Tue, Feb-25</td>\n",
       "      <td><ul>    <li>Review for exam 2</li>    <li>Course project QA</li></ul></td>\n",
       "      <td></td>\n",
       "    </tr>\n",
       "    <tr>\n",
       "      <td>Thu, Feb-27</td>\n",
       "      <td><ul>    <li>Exam 2</li></ul></td>\n",
       "      <td></td>\n",
       "    </tr>\n",
       "    <tr>\n",
       "      <td>Tue, Mar-04</td>\n",
       "      <td></td>\n",
       "      <td></td>\n",
       "    </tr>\n",
       "    <tr>\n",
       "      <td>Thu, Mar-06</td>\n",
       "      <td></td>\n",
       "      <td></td>\n",
       "    </tr>\n",
       "    <tr>\n",
       "      <td>Tue, Mar-11</td>\n",
       "      <td></td>\n",
       "      <td></td>\n",
       "    </tr>\n",
       "    <tr>\n",
       "      <td>Thu, Mar-13</td>\n",
       "      <td></td>\n",
       "      <td></td>\n",
       "    </tr>\n",
       "    <tr>\n",
       "      <td>Tue, Mar-18</td>\n",
       "      <td><ul>    <li>No class - Spring break</li></ul></td>\n",
       "      <td></td>\n",
       "    </tr>\n",
       "    <tr>\n",
       "      <td>Thu, Mar-20</td>\n",
       "      <td><ul>    <li>No class - Spring break</li></ul></td>\n",
       "      <td></td>\n",
       "    </tr>\n",
       "    <tr>\n",
       "      <td>Tue, Mar-25</td>\n",
       "      <td></td>\n",
       "      <td></td>\n",
       "    </tr>\n",
       "    <tr>\n",
       "      <td>Thu, Mar-27</td>\n",
       "      <td><ul>    <li>Review for exam 3</li>    <li>Course project QA</li></ul></td>\n",
       "      <td></td>\n",
       "    </tr>\n",
       "    <tr>\n",
       "      <td>Tue, Apr-01</td>\n",
       "      <td><ul>    <li>Exam 3</li></ul></td>\n",
       "      <td></td>\n",
       "    </tr>\n",
       "    <tr>\n",
       "      <td>Thu, Apr-03</td>\n",
       "      <td></td>\n",
       "      <td></td>\n",
       "    </tr>\n",
       "    <tr>\n",
       "      <td>Tue, Apr-08</td>\n",
       "      <td></td>\n",
       "      <td></td>\n",
       "    </tr>\n",
       "    <tr>\n",
       "      <td>Thu, Apr-10</td>\n",
       "      <td></td>\n",
       "      <td></td>\n",
       "    </tr>\n",
       "    <tr>\n",
       "      <td>Tue, Apr-15</td>\n",
       "      <td></td>\n",
       "      <td></td>\n",
       "    </tr>\n",
       "    <tr>\n",
       "      <td>Thu, Apr-17</td>\n",
       "      <td></td>\n",
       "      <td></td>\n",
       "    </tr>\n",
       "    <tr>\n",
       "      <td>Tue, Apr-22</td>\n",
       "      <td><ul>    <li>Review for exam 4</li>    <li>Course project QA</li></ul></td>\n",
       "      <td></td>\n",
       "    </tr>\n",
       "    <tr>\n",
       "      <td>Thu, Apr-24</td>\n",
       "      <td><ul>    <li>Exam 4</li></ul></td>\n",
       "      <td></td>\n",
       "    </tr>\n",
       "    <tr>\n",
       "      <td>Thu, May-01</td>\n",
       "      <td><ul>    <li>Makeup exam period (12:30-2:30)</li></ul></td>\n",
       "      <td></td>\n",
       "    </tr>\n",
       "  </tbody>\n",
       "</table></div>"
      ],
      "text/plain": [
       "<IPython.core.display.HTML object>"
      ]
     },
     "execution_count": 6,
     "metadata": {},
     "output_type": "execute_result"
    }
   ],
   "source": [
    "HTML(wrapped_html)"
   ]
  }
 ],
 "metadata": {
  "celltoolbar": "Tags",
  "jupyter": {
   "celltoolbar": "Disable Google Colab Button"
  },
  "kernelspec": {
   "display_name": "Python 3",
   "language": "python",
   "name": "python3"
  },
  "language_info": {
   "codemirror_mode": {
    "name": "ipython",
    "version": 3
   },
   "file_extension": ".py",
   "mimetype": "text/x-python",
   "name": "python",
   "nbconvert_exporter": "python",
   "pygments_lexer": "ipython3",
   "version": "3.12.7"
  }
 },
 "nbformat": 4,
 "nbformat_minor": 4
}
